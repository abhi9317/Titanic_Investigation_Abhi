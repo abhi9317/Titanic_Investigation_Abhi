{
 "cells": [
  {
   "cell_type": "markdown",
   "metadata": {},
   "source": [
    "# Titanic Dataset Investigation\n",
    "\n",
    "### \"Women and Children first!\" became a popular code of conduct after the Titanic sank in 1912. \n",
    "\n",
    "### It also inspired the first questions I thought of when I first saw the Titanic survivor dataset: \n",
    "1) Did both women and children indeed have a better likelihood of survival as compared to men? <br>\n",
    "2) And between women and children groups, were their chances of survival significantly different? \n",
    "\n",
    "I'll be exploring these questions in the following analysis\n",
    "\n",
    "\n",
    "# Importing the data\n",
    "\n",
    "<p>The first step in my analysis of the titanic data set was to import the data into a dataframe using the passenger id as the index and just explore the structure of the dataset using the head method.</p>"
   ]
  },
  {
   "cell_type": "code",
   "execution_count": 1,
   "metadata": {
    "collapsed": false
   },
   "outputs": [
    {
     "name": "stdout",
     "output_type": "stream",
     "text": [
      "             Survived  Pclass  \\\n",
      "PassengerId                     \n",
      "1                   0       3   \n",
      "2                   1       1   \n",
      "3                   1       3   \n",
      "4                   1       1   \n",
      "5                   0       3   \n",
      "\n",
      "                                                          Name     Sex  Age  \\\n",
      "PassengerId                                                                   \n",
      "1                                      Braund, Mr. Owen Harris    male   22   \n",
      "2            Cumings, Mrs. John Bradley (Florence Briggs Th...  female   38   \n",
      "3                                       Heikkinen, Miss. Laina  female   26   \n",
      "4                 Futrelle, Mrs. Jacques Heath (Lily May Peel)  female   35   \n",
      "5                                     Allen, Mr. William Henry    male   35   \n",
      "\n",
      "             SibSp  Parch            Ticket     Fare Cabin Embarked  \n",
      "PassengerId                                                          \n",
      "1                1      0         A/5 21171   7.2500   NaN        S  \n",
      "2                1      0          PC 17599  71.2833   C85        C  \n",
      "3                0      0  STON/O2. 3101282   7.9250   NaN        S  \n",
      "4                1      0            113803  53.1000  C123        S  \n",
      "5                0      0            373450   8.0500   NaN        S  \n"
     ]
    },
    {
     "name": "stderr",
     "output_type": "stream",
     "text": [
      "C:\\Users\\Abhi\\Anaconda2\\lib\\site-packages\\matplotlib\\__init__.py:872: UserWarning: axes.color_cycle is deprecated and replaced with axes.prop_cycle; please use the latter.\n",
      "  warnings.warn(self.msg_depr % (key, alt_key))\n"
     ]
    }
   ],
   "source": [
    "##import necessary modules\n",
    "import numpy as np\n",
    "import pandas as pd\n",
    "import matplotlib.pyplot as plt\n",
    "import matplotlib.figure as fgr\n",
    "from matplotlib.axes import Subplot\n",
    "import seaborn as sns\n",
    "import scipy.stats as scistat\n",
    "\n",
    "## read in the datasets\n",
    "\n",
    "titanic_df_init = pd.read_csv('C:/Users/Abhi/Downloads/Datasets/titanic_data.csv')\n",
    "\n",
    "## setting the passenger id as the index for the dataframe\n",
    "titanic_df = titanic_df_init.set_index('PassengerId')\n",
    "\n",
    "print titanic_df.head()"
   ]
  },
  {
   "cell_type": "markdown",
   "metadata": {},
   "source": [
    "# Data Wrangling\n",
    "\n",
    "<p>Looking at the dataset, I decided that it was first critical to wrangle the data into the structures that would make analysis easier later on. In doing so I set out to perform a few wrangling tasks:</p>\n",
    "\n",
    "a. To make some computation and analysis work with the gender of passengers easier, I decided to add a **\"Gender\"** column to illustrate **male/female** with the numberical keys **0/1** instead.\n",
    "\n",
    "b. I was finding it problematic that the Age column had several Nan values and I thought this would make analysis work where Age was involved a bit difficult to generalize to the dataset. So I took some inspiration from <a>https://www.kaggle.com/c/titanic/details/getting-started-with-python-ii</a> to fill the age value for a passenger without an age value based on the median age of people of their gender and class of travel. \n",
    "\n",
    "c. Finally, keeping in mind that my orignal question enquires about children, I thought it might be useful to create a **\"Who\"** column to seperate between **men, women and children** (below 18 years old) in the passenger dataset. This enabled me to look at the children data in greater detail later.\n",
    "\n",
    "d. In the end, I dropped columns that I was quite sure I wouldn't be interested in looking at in this analysis"
   ]
  },
  {
   "cell_type": "code",
   "execution_count": 2,
   "metadata": {
    "collapsed": false
   },
   "outputs": [
    {
     "name": "stdout",
     "output_type": "stream",
     "text": [
      "New working data structure for Titanic Dataset\n",
      "             Survived  Pclass     Fare  Gender  AgeFill     Who\n",
      "PassengerId                                                    \n",
      "880                 1       1  83.1583       1     56.0  female\n",
      "881                 1       2  26.0000       1     25.0  female\n",
      "882                 0       3   7.8958       0     33.0    male\n",
      "883                 0       3  10.5167       1     22.0  female\n",
      "884                 0       2  10.5000       0     28.0    male\n",
      "885                 0       3   7.0500       0     25.0    male\n",
      "886                 0       3  29.1250       1     39.0  female\n",
      "887                 0       2  13.0000       0     27.0    male\n",
      "888                 1       1  30.0000       1     19.0  female\n",
      "889                 0       3  23.4500       1     21.5  female\n",
      "890                 1       1  30.0000       0     26.0    male\n",
      "891                 0       3   7.7500       0     32.0    male\n"
     ]
    }
   ],
   "source": [
    "## Replacing male/female with binary values 0/1\n",
    "titanic_df['Gender'] = titanic_df['Sex']\n",
    "titanic_df['Gender'] = titanic_df['Sex'].dropna().map({'male' : 0, 'female': 1})\n",
    "\n",
    "## Calculating the median age values for each gender by class\n",
    "median_age_class = np.ones((2,3))\n",
    "\n",
    "for i in range(0,2):\n",
    "    for j in range(0,3):\n",
    "        median_age_class[i,j] = \\\n",
    "        titanic_df[(titanic_df['Gender'] == i) & (titanic_df['Pclass'] == j + 1)]['Age'].dropna().median()\n",
    "\n",
    "## Creating a complete age column by replacing Nan values with appropriate median age as per gender and class\n",
    "titanic_df['AgeFill'] = titanic_df['Age']\n",
    "\n",
    "## Filling in the AgeFill column with the median ages estimated as per class and gender of passenger (Kaggle)\n",
    "for i in range(0, 2):\n",
    "    for j in range(0, 3):\n",
    "        titanic_df.loc[ (titanic_df.Age.isnull()) & (titanic_df.Gender == i) & (titanic_df.Pclass == j+1),\\\n",
    "                'AgeFill'] = median_age_class[i,j]  \n",
    "        \n",
    "## Creating a who column to classify by (man, woman, child)\n",
    "titanic_df['Who'] = titanic_df['Sex']\n",
    "titanic_df.loc[(titanic_df['AgeFill'] < 18),'Who'] = 'child'\n",
    "\n",
    "##Dropping the columns that I was surely not going to use in my analysis\n",
    "titanic_df = titanic_df.drop(['Age','Name','Sex','Ticket','Cabin','Embarked','SibSp','Parch'], axis = 1)\n",
    "\n",
    "##Printing out the new data structure\n",
    "print 'New working data structure for Titanic Dataset'\n",
    "print titanic_df.tail(12)\n"
   ]
  },
  {
   "cell_type": "markdown",
   "metadata": {},
   "source": [
    "# Exploring the data\n",
    "\n",
    "## Single Variable Analysis\n",
    "\n",
    "To get to know the distribution of the dataset a little better, I decided to explore the individual features in the dataset for visual trends using 3 tools:\n",
    "\n",
    "1) I used to boxplot for continuous variables (Age and Fare) to give me a quick indication of how the different columns were distributed, how \"normal\" they were and whether any of them were significantly influenced by outliers\n",
    "\n",
    "2) Then I used histograms to better understand the distribution of individual columns of age and fare. \n",
    "\n",
    "3) Then for the categorical variables (Survival, Class and Gender), I used bar charts to help me understand their distributions\n",
    "\n",
    "3) Finally I wanted to see if there were any strong correlations between the features and also have a look at the basic descriptive statistics for the features. I used the corr() and describe() functions to do this \n"
   ]
  },
  {
   "cell_type": "code",
   "execution_count": 4,
   "metadata": {
    "collapsed": false
   },
   "outputs": [
    {
     "name": "stdout",
     "output_type": "stream",
     "text": [
      "         Survived      Pclass        Fare      Gender     AgeFill\n",
      "count  891.000000  891.000000  891.000000  891.000000  891.000000\n",
      "mean     0.383838    2.308642   32.204208    0.352413   29.112424\n",
      "std      0.486592    0.836071   49.693429    0.477990   13.304424\n",
      "min      0.000000    1.000000    0.000000    0.000000    0.420000\n",
      "25%      0.000000    2.000000    7.910400    0.000000   21.500000\n",
      "50%      0.000000    3.000000   14.454200    0.000000   26.000000\n",
      "75%      1.000000    3.000000   31.000000    1.000000   36.000000\n",
      "max      1.000000    3.000000  512.329200    1.000000   80.000000\n"
     ]
    },
    {
     "name": "stderr",
     "output_type": "stream",
     "text": [
      "C:\\Users\\Abhi\\Anaconda2\\lib\\site-packages\\ipykernel\\__main__.py:7: FutureWarning: \n",
      "The default value for 'return_type' will change to 'axes' in a future release.\n",
      " To use the future behavior now, set return_type='axes'.\n",
      " To keep the previous behavior and silence this warning, set return_type='dict'.\n"
     ]
    },
    {
     "data": {
      "text/plain": [
       "array([[<matplotlib.axes._subplots.AxesSubplot object at 0x0000000020363828>,\n",
       "        <matplotlib.axes._subplots.AxesSubplot object at 0x000000001A94E4E0>]], dtype=object)"
      ]
     },
     "execution_count": 4,
     "metadata": {},
     "output_type": "execute_result"
    },
    {
     "data": {
      "image/png": "[encoded data removed]",
      "text/plain": [
       "<matplotlib.figure.Figure at 0x3cf6780>"
      ]
     },
     "metadata": {},
     "output_type": "display_data"
    },
    {
     "data": {
      "image/png": "[encoded data removed]",
      "text/plain": [
       "<matplotlib.figure.Figure at 0x20192898>"
      ]
     },
     "metadata": {},
     "output_type": "display_data"
    }
   ],
   "source": [
    "%matplotlib inline\n",
    "\n",
    "## Basic descriptive statistics of the whole dataset\n",
    "print titanic_df.describe()\n",
    "\n",
    "##Exploring the features age and fare with a boxplot and histograms for non categorical columns\n",
    "titanic_df[['AgeFill','Fare']].boxplot()\n",
    "plt.ylim(ymax = 100)\n",
    "titanic_df[['AgeFill','Fare']].hist(figsize = (12,5))"
   ]
  },
  {
   "cell_type": "code",
   "execution_count": 5,
   "metadata": {
    "collapsed": false
   },
   "outputs": [
    {
     "name": "stderr",
     "output_type": "stream",
     "text": [
      "C:\\Users\\Abhi\\Anaconda2\\lib\\site-packages\\matplotlib\\__init__.py:892: UserWarning: axes.color_cycle is deprecated and replaced with axes.prop_cycle; please use the latter.\n",
      "  warnings.warn(self.msg_depr % (key, alt_key))\n"
     ]
    },
    {
     "data": {
      "text/plain": [
       "<matplotlib.text.Text at 0x2082ffd0>"
      ]
     },
     "execution_count": 5,
     "metadata": {},
     "output_type": "execute_result"
    },
    {
     "data": {
      "image/png": "[encoded data removed]",
      "text/plain": [
       "<matplotlib.figure.Figure at 0x1a1a7c50>"
      ]
     },
     "metadata": {},
     "output_type": "display_data"
    }
   ],
   "source": [
    "#Exploring the feature 'Survived' with the help of a bar chart\n",
    "\n",
    "a1 = sns.countplot(x = 'Survived', data = titanic_df, saturation = 0.4,  linewidth=10, edgecolor=sns.color_palette(\"dark\", 3))\n",
    "a1.set_xticklabels(['Did Not Survive', 'Survived'])\n",
    "a1.set_xlabel('Survival Status', fontsize = 15)\n",
    "a1.set_ylabel('Number of passengers', fontsize = 15)"
   ]
  },
  {
   "cell_type": "code",
   "execution_count": 6,
   "metadata": {
    "collapsed": false
   },
   "outputs": [
    {
     "data": {
      "text/plain": [
       "(0, 600)"
      ]
     },
     "execution_count": 6,
     "metadata": {},
     "output_type": "execute_result"
    },
    {
     "data": {
      "image/png": "[encoded data removed]",
      "text/plain": [
       "<matplotlib.figure.Figure at 0x1a87ee10>"
      ]
     },
     "metadata": {},
     "output_type": "display_data"
    }
   ],
   "source": [
    "#Exploring the feature 'Pclass' with the help of a bar chart\n",
    "a2 = sns.countplot(x = 'Pclass', data = titanic_df, order = (1,2,3), facecolor = (0.1,0.5,0.75, 0.6) )\n",
    "a2.set_xticklabels(['First', 'Second', 'Third'])\n",
    "a2.set_xlabel('Class', fontsize = 15)\n",
    "a2.set_ylabel('Number of passengers', fontsize = 15)\n",
    "a2.set_ylim(0,600)"
   ]
  },
  {
   "cell_type": "code",
   "execution_count": 8,
   "metadata": {
    "collapsed": false
   },
   "outputs": [
    {
     "data": {
      "text/plain": [
       "[<matplotlib.text.Text at 0x1a2e8240>, <matplotlib.text.Text at 0x1a2d3828>]"
      ]
     },
     "execution_count": 8,
     "metadata": {},
     "output_type": "execute_result"
    },
    {
     "data": {
      "image/png": "[encoded data removed]",
      "text/plain": [
       "<matplotlib.figure.Figure at 0x20805588>"
      ]
     },
     "metadata": {},
     "output_type": "display_data"
    }
   ],
   "source": [
    "#Exploring the feature 'Gender' with the help of a bar chart\n",
    "a3 = sns.countplot(x = 'Gender', data = titanic_df, order = (0,1), saturation = 1)\n",
    "a3.set_xlabel('Gender', fontsize = 15)\n",
    "a3.set_ylabel('Number of passengers', fontsize = 15)\n",
    "a3.set_xticklabels(['Male', 'Female'])"
   ]
  },
  {
   "cell_type": "code",
   "execution_count": 9,
   "metadata": {
    "collapsed": false
   },
   "outputs": [
    {
     "name": "stdout",
     "output_type": "stream",
     "text": [
      "          Survived    Pclass      Fare    Gender   AgeFill\n",
      "Survived  1.000000 -0.338481  0.257307  0.543351 -0.059579\n",
      "Pclass   -0.338481  1.000000 -0.549500 -0.131900 -0.413583\n",
      "Fare      0.257307 -0.549500  1.000000  0.182333  0.122692\n",
      "Gender    0.543351 -0.131900  0.182333  1.000000 -0.102706\n",
      "AgeFill  -0.059579 -0.413583  0.122692 -0.102706  1.000000\n"
     ]
    }
   ],
   "source": [
    "## Getting the Correlations between all the columns\n",
    "print titanic_df.corr()"
   ]
  },
  {
   "cell_type": "markdown",
   "metadata": {},
   "source": [
    "## Multi-variable analysis\n",
    "\n",
    "Next I wanted to start directly exploring my original question of whether women and children had a different likelihood of surviving than men and whether there was a difference in the likelihood of women surviving vs children.\n",
    "\n",
    "The hypotheses that my questions are represented by are as follows:\n",
    "\n",
    "a) H0a: There is no significant difference between the likelihood of a man surviving as compared to the likelihood of a women and child surviving:\n",
    "\n",
    "                                            μm = μfc\n",
    "                                            \n",
    "   H1a: The likelihood of a women or child surviving the titanic is different from that of a man\n",
    "   \n",
    "                                            μm < μfc\n",
    "                                            \n",
    "b) H0b: There is no significant difference between the likelihood of a woman surviving and that of child surviving\n",
    "\n",
    "                                            μf = μc\n",
    "   \n",
    "   H1b: There is a significant difference between the likelihood of a woman surviving and that of a child surviving.\n",
    "   \n",
    "                                            μf ≠ μc\n",
    "\n",
    "Before performing a statistical test, I wanted to have a look at the relationship between the independent variable ('Who' feature) and the likelihood/probability of survival (the dependent variable)."
   ]
  },
  {
   "cell_type": "code",
   "execution_count": 21,
   "metadata": {
    "collapsed": false
   },
   "outputs": [
    {
     "name": "stdout",
     "output_type": "stream",
     "text": [
      "Who\n",
      "child     0.539823\n",
      "female    0.752896\n",
      "male      0.165703\n",
      "Name: Survived, dtype: float64\n"
     ]
    },
    {
     "data": {
      "text/plain": [
       "<matplotlib.text.Text at 0x20dfe748>"
      ]
     },
     "execution_count": 21,
     "metadata": {},
     "output_type": "execute_result"
    },
    {
     "data": {
      "image/png": "[encoded data removed]",
      "text/plain": [
       "<matplotlib.figure.Figure at 0x21e27d68>"
      ]
     },
     "metadata": {},
     "output_type": "display_data"
    }
   ],
   "source": [
    "##Calculating probability of survival against the 'Who' feature\n",
    "\n",
    "prob_surv = titanic_df.groupby('Who')['Survived'].mean()\n",
    "\n",
    "print prob_surv #printing the probability of survival values\n",
    "\n",
    "#Plotting probability of survival against the 'Who' feature using a horizontal bar chart\n",
    "prob_surv.plot(kind = 'barh', color = 'g', alpha = 0.65)\n",
    "plt.xlabel('Probability of Survival')\n",
    "plt.ylabel('')"
   ]
  },
  {
   "cell_type": "markdown",
   "metadata": {
    "collapsed": true
   },
   "source": [
    "The chart above seemed to suggest that women and children have a better chance of survival as compared to men. \n",
    "\n",
    "So I decided to proceed to use a chi-square test to test my hypothesis statistically for a)\n",
    "\n",
    "And a chi-square test to test my hypothesis for b)\n",
    "\n",
    "\n",
    "### Hypothesis a"
   ]
  },
  {
   "cell_type": "code",
   "execution_count": 41,
   "metadata": {
    "collapsed": false,
    "scrolled": true
   },
   "outputs": [
    {
     "name": "stdout",
     "output_type": "stream",
     "text": [
      "   women&child  men\n",
      "0          116  433\n",
      "1          256   86\n"
     ]
    },
    {
     "data": {
      "text/plain": [
       "(247.89376878705227,\n",
       " 7.4752324786817778e-56,\n",
       " 1L,\n",
       " array([[ 229.21212121,  319.78787879],\n",
       "        [ 142.78787879,  199.21212121]]))"
      ]
     },
     "execution_count": 41,
     "metadata": {},
     "output_type": "execute_result"
    }
   ],
   "source": [
    "\n",
    "##Creating dataframes of the appropriate views in preparation for statistical tests\n",
    "female_df = titanic_df[titanic_df['Who'] == 'female']\n",
    "child_df = titanic_df[titanic_df['Who'] == 'child']\n",
    "men_df = titanic_df[titanic_df['Who'] == 'male']\n",
    "wom_and_chi_df = pd.concat([female_df,child_df])\n",
    "\n",
    "##Creating the contingency table for the chi-square test\n",
    "wom_and_chi_table = wom_and_chi_df['Survived'].value_counts()\n",
    "men_table = men_df['Survived'].value_counts()\n",
    "con_table_a = pd.concat([wom_and_chi_table, men_table], axis = 1, keys = ['women&child','men'])\n",
    "print con_table_a\n",
    "\n",
    "## Chi Square Test to check hypothesis a (ie. if women and children were more likely to survive than men)\n",
    "scistat.chi2_contingency(con_table_a)"
   ]
  },
  {
   "cell_type": "markdown",
   "metadata": {},
   "source": [
    "Based on the above test, the p value is below 0.01 (alpha level is 0.05) and we can definitely conclude that survival and who you were are not independent variables (ie. your survival was influenced by whether you were a women/child or a man). After comparing the observed and expected frequencies of the two groups however, we can tentatively conclude that women&children were more likely to survive that men."
   ]
  },
  {
   "cell_type": "markdown",
   "metadata": {},
   "source": [
    "### Hypothesis b\n",
    "\n",
    "For my second hypothesis that women and children do not have the same likelihood of survival, I also used a chi squared test."
   ]
  },
  {
   "cell_type": "code",
   "execution_count": 44,
   "metadata": {
    "collapsed": false
   },
   "outputs": [
    {
     "name": "stdout",
     "output_type": "stream",
     "text": [
      "   women  children\n",
      "1    195        61\n",
      "0     64        52\n"
     ]
    },
    {
     "data": {
      "text/plain": [
       "(15.666699994138392,\n",
       " 7.5542562057434262e-05,\n",
       " 1L,\n",
       " array([[ 178.23655914,   77.76344086],\n",
       "        [  80.76344086,   35.23655914]]))"
      ]
     },
     "execution_count": 44,
     "metadata": {},
     "output_type": "execute_result"
    }
   ],
   "source": [
    "##Creating the contingency table for the chi-square test\n",
    "female_table = female_df['Survived'].value_counts()\n",
    "child_table = child_df['Survived'].value_counts()\n",
    "con_table_b = pd.concat([female_table, child_table], axis = 1, keys = ['women','children'])\n",
    "\n",
    "print con_table_b #Printing the contingency table\n",
    "\n",
    "## Chi square to check hypothesis b (ie. that women and children did not have the same likelihood of suvival)\n",
    "scistat.chi2_contingency(con_table_b)"
   ]
  },
  {
   "cell_type": "markdown",
   "metadata": {},
   "source": [
    "Based on the above test, the p value is below 0.01 (alpha= 0.05) and therefore **we reject the null hypothesis**\n",
    "\n",
    "The result of the test seems to suggest that there indeed a significant relationship between survival and whether they were women or children. (ie. survival was affected by whether you were a women or a child)\n",
    "\n",
    "I decided to go back to the dataset and check if there are other variables that could be spuriously affecting the 'Who' --> 'Surivived' relationship (especially in the case of women and children)\n",
    "\n",
    "To do this I wanted to look at the descriptive statistics for the women and children group separately using the describe funciton"
   ]
  },
  {
   "cell_type": "code",
   "execution_count": 7,
   "metadata": {
    "collapsed": false
   },
   "outputs": [
    {
     "data": {
      "text/html": [
       "<div>\n",
       "<table border=\"1\" class=\"dataframe\">\n",
       "  <thead>\n",
       "    <tr style=\"text-align: right;\">\n",
       "      <th></th>\n",
       "      <th>Survived</th>\n",
       "      <th>Pclass</th>\n",
       "      <th>SibSp</th>\n",
       "      <th>Parch</th>\n",
       "      <th>Fare</th>\n",
       "      <th>Gender</th>\n",
       "      <th>AgeFill</th>\n",
       "    </tr>\n",
       "  </thead>\n",
       "  <tbody>\n",
       "    <tr>\n",
       "      <th>count</th>\n",
       "      <td>113.000000</td>\n",
       "      <td>113.000000</td>\n",
       "      <td>113.000000</td>\n",
       "      <td>113.000000</td>\n",
       "      <td>113.000000</td>\n",
       "      <td>113.000000</td>\n",
       "      <td>113.000000</td>\n",
       "    </tr>\n",
       "    <tr>\n",
       "      <th>mean</th>\n",
       "      <td>0.539823</td>\n",
       "      <td>2.584071</td>\n",
       "      <td>1.460177</td>\n",
       "      <td>1.053097</td>\n",
       "      <td>31.220798</td>\n",
       "      <td>0.486726</td>\n",
       "      <td>9.041327</td>\n",
       "    </tr>\n",
       "    <tr>\n",
       "      <th>std</th>\n",
       "      <td>0.500632</td>\n",
       "      <td>0.677781</td>\n",
       "      <td>1.625881</td>\n",
       "      <td>0.800008</td>\n",
       "      <td>32.538092</td>\n",
       "      <td>0.502050</td>\n",
       "      <td>6.030408</td>\n",
       "    </tr>\n",
       "    <tr>\n",
       "      <th>min</th>\n",
       "      <td>0.000000</td>\n",
       "      <td>1.000000</td>\n",
       "      <td>0.000000</td>\n",
       "      <td>0.000000</td>\n",
       "      <td>7.054200</td>\n",
       "      <td>0.000000</td>\n",
       "      <td>0.420000</td>\n",
       "    </tr>\n",
       "    <tr>\n",
       "      <th>25%</th>\n",
       "      <td>0.000000</td>\n",
       "      <td>2.000000</td>\n",
       "      <td>0.000000</td>\n",
       "      <td>0.000000</td>\n",
       "      <td>12.287500</td>\n",
       "      <td>0.000000</td>\n",
       "      <td>3.000000</td>\n",
       "    </tr>\n",
       "    <tr>\n",
       "      <th>50%</th>\n",
       "      <td>1.000000</td>\n",
       "      <td>3.000000</td>\n",
       "      <td>1.000000</td>\n",
       "      <td>1.000000</td>\n",
       "      <td>23.000000</td>\n",
       "      <td>0.000000</td>\n",
       "      <td>9.000000</td>\n",
       "    </tr>\n",
       "    <tr>\n",
       "      <th>75%</th>\n",
       "      <td>1.000000</td>\n",
       "      <td>3.000000</td>\n",
       "      <td>3.000000</td>\n",
       "      <td>2.000000</td>\n",
       "      <td>34.375000</td>\n",
       "      <td>1.000000</td>\n",
       "      <td>16.000000</td>\n",
       "    </tr>\n",
       "    <tr>\n",
       "      <th>max</th>\n",
       "      <td>1.000000</td>\n",
       "      <td>3.000000</td>\n",
       "      <td>5.000000</td>\n",
       "      <td>3.000000</td>\n",
       "      <td>211.337500</td>\n",
       "      <td>1.000000</td>\n",
       "      <td>17.000000</td>\n",
       "    </tr>\n",
       "  </tbody>\n",
       "</table>\n",
       "</div>"
      ],
      "text/plain": [
       "         Survived      Pclass       SibSp       Parch        Fare      Gender  \\\n",
       "count  113.000000  113.000000  113.000000  113.000000  113.000000  113.000000   \n",
       "mean     0.539823    2.584071    1.460177    1.053097   31.220798    0.486726   \n",
       "std      0.500632    0.677781    1.625881    0.800008   32.538092    0.502050   \n",
       "min      0.000000    1.000000    0.000000    0.000000    7.054200    0.000000   \n",
       "25%      0.000000    2.000000    0.000000    0.000000   12.287500    0.000000   \n",
       "50%      1.000000    3.000000    1.000000    1.000000   23.000000    0.000000   \n",
       "75%      1.000000    3.000000    3.000000    2.000000   34.375000    1.000000   \n",
       "max      1.000000    3.000000    5.000000    3.000000  211.337500    1.000000   \n",
       "\n",
       "          AgeFill  \n",
       "count  113.000000  \n",
       "mean     9.041327  \n",
       "std      6.030408  \n",
       "min      0.420000  \n",
       "25%      3.000000  \n",
       "50%      9.000000  \n",
       "75%     16.000000  \n",
       "max     17.000000  "
      ]
     },
     "execution_count": 7,
     "metadata": {},
     "output_type": "execute_result"
    }
   ],
   "source": [
    "## Descriptive statistics for the passengers who were children\n",
    "child_df.describe()\n"
   ]
  },
  {
   "cell_type": "code",
   "execution_count": 8,
   "metadata": {
    "collapsed": false
   },
   "outputs": [
    {
     "data": {
      "text/html": [
       "<div>\n",
       "<table border=\"1\" class=\"dataframe\">\n",
       "  <thead>\n",
       "    <tr style=\"text-align: right;\">\n",
       "      <th></th>\n",
       "      <th>Survived</th>\n",
       "      <th>Pclass</th>\n",
       "      <th>SibSp</th>\n",
       "      <th>Parch</th>\n",
       "      <th>Fare</th>\n",
       "      <th>Gender</th>\n",
       "      <th>AgeFill</th>\n",
       "    </tr>\n",
       "  </thead>\n",
       "  <tbody>\n",
       "    <tr>\n",
       "      <th>count</th>\n",
       "      <td>259.000000</td>\n",
       "      <td>259.000000</td>\n",
       "      <td>259.000000</td>\n",
       "      <td>259.000000</td>\n",
       "      <td>259.000000</td>\n",
       "      <td>259</td>\n",
       "      <td>259.000000</td>\n",
       "    </tr>\n",
       "    <tr>\n",
       "      <th>mean</th>\n",
       "      <td>0.752896</td>\n",
       "      <td>2.088803</td>\n",
       "      <td>0.586873</td>\n",
       "      <td>0.567568</td>\n",
       "      <td>46.963772</td>\n",
       "      <td>1</td>\n",
       "      <td>31.088803</td>\n",
       "    </tr>\n",
       "    <tr>\n",
       "      <th>std</th>\n",
       "      <td>0.432163</td>\n",
       "      <td>0.864811</td>\n",
       "      <td>1.057999</td>\n",
       "      <td>1.044676</td>\n",
       "      <td>61.269415</td>\n",
       "      <td>0</td>\n",
       "      <td>10.840270</td>\n",
       "    </tr>\n",
       "    <tr>\n",
       "      <th>min</th>\n",
       "      <td>0.000000</td>\n",
       "      <td>1.000000</td>\n",
       "      <td>0.000000</td>\n",
       "      <td>0.000000</td>\n",
       "      <td>6.750000</td>\n",
       "      <td>1</td>\n",
       "      <td>18.000000</td>\n",
       "    </tr>\n",
       "    <tr>\n",
       "      <th>25%</th>\n",
       "      <td>1.000000</td>\n",
       "      <td>1.000000</td>\n",
       "      <td>0.000000</td>\n",
       "      <td>0.000000</td>\n",
       "      <td>10.508350</td>\n",
       "      <td>1</td>\n",
       "      <td>21.500000</td>\n",
       "    </tr>\n",
       "    <tr>\n",
       "      <th>50%</th>\n",
       "      <td>1.000000</td>\n",
       "      <td>2.000000</td>\n",
       "      <td>0.000000</td>\n",
       "      <td>0.000000</td>\n",
       "      <td>23.250000</td>\n",
       "      <td>1</td>\n",
       "      <td>29.000000</td>\n",
       "    </tr>\n",
       "    <tr>\n",
       "      <th>75%</th>\n",
       "      <td>1.000000</td>\n",
       "      <td>3.000000</td>\n",
       "      <td>1.000000</td>\n",
       "      <td>1.000000</td>\n",
       "      <td>65.800000</td>\n",
       "      <td>1</td>\n",
       "      <td>37.500000</td>\n",
       "    </tr>\n",
       "    <tr>\n",
       "      <th>max</th>\n",
       "      <td>1.000000</td>\n",
       "      <td>3.000000</td>\n",
       "      <td>8.000000</td>\n",
       "      <td>6.000000</td>\n",
       "      <td>512.329200</td>\n",
       "      <td>1</td>\n",
       "      <td>63.000000</td>\n",
       "    </tr>\n",
       "  </tbody>\n",
       "</table>\n",
       "</div>"
      ],
      "text/plain": [
       "         Survived      Pclass       SibSp       Parch        Fare  Gender  \\\n",
       "count  259.000000  259.000000  259.000000  259.000000  259.000000     259   \n",
       "mean     0.752896    2.088803    0.586873    0.567568   46.963772       1   \n",
       "std      0.432163    0.864811    1.057999    1.044676   61.269415       0   \n",
       "min      0.000000    1.000000    0.000000    0.000000    6.750000       1   \n",
       "25%      1.000000    1.000000    0.000000    0.000000   10.508350       1   \n",
       "50%      1.000000    2.000000    0.000000    0.000000   23.250000       1   \n",
       "75%      1.000000    3.000000    1.000000    1.000000   65.800000       1   \n",
       "max      1.000000    3.000000    8.000000    6.000000  512.329200       1   \n",
       "\n",
       "          AgeFill  \n",
       "count  259.000000  \n",
       "mean    31.088803  \n",
       "std     10.840270  \n",
       "min     18.000000  \n",
       "25%     21.500000  \n",
       "50%     29.000000  \n",
       "75%     37.500000  \n",
       "max     63.000000  "
      ]
     },
     "execution_count": 8,
     "metadata": {},
     "output_type": "execute_result"
    }
   ],
   "source": [
    "#Descriptive statistics for the female passengers\n",
    "female_df.describe()"
   ]
  },
  {
   "cell_type": "markdown",
   "metadata": {},
   "source": [
    "Something that caught my eye when I looked at the descriptive statistics was the difference in the average class of travel between the two groups (female and child), so i decided to plot that using seaborn's countplot"
   ]
  },
  {
   "cell_type": "code",
   "execution_count": 9,
   "metadata": {
    "collapsed": false
   },
   "outputs": [
    {
     "data": {
      "image/png": "[encoded data removed]",
      "text/plain": [
       "<matplotlib.figure.Figure at 0x1d794c18>"
      ]
     },
     "metadata": {},
     "output_type": "display_data"
    }
   ],
   "source": [
    "p1 = sns.countplot(x = 'Pclass', hue = 'Who', data = wom_and_chi_df ,order = (1,2,3), palette = 'Set3')\n",
    "plt.ylabel('Number of Passengers', fontsize = 15)\n",
    "plt.xlabel('Class of Travel', fontsize = 15)\n",
    "sns.despine()"
   ]
  },
  {
   "cell_type": "markdown",
   "metadata": {},
   "source": [
    "The visualization above was interesting to me because it demonstrated that the number of children increased as we got into the lower classes (taking 3 as lowest class) while the number of adult female passengers was lowest in class 2 and higher in classes 1 and 3. \n",
    "\n",
    "This suggested two things to me:\n",
    "\n",
    "1) Maybe the average class of adult female passengers was higher than the average class of children and\n",
    "\n",
    "2) That class of the passenger could be the confounding variable (that is causing the difference in survival rate between women and children) if class of travel significantly affected the likelihood of survival for the whole sample. (ie. higher class passengers had a better chance of survival)\n",
    "\n",
    "\n",
    "I decided to explore these ideas statistically."
   ]
  },
  {
   "cell_type": "code",
   "execution_count": 51,
   "metadata": {
    "collapsed": false
   },
   "outputs": [
    {
     "name": "stdout",
     "output_type": "stream",
     "text": [
      "Who\n",
      "child     2.584071\n",
      "female    2.088803\n",
      "male      2.358382\n",
      "Name: Pclass, dtype: float64\n"
     ]
    }
   ],
   "source": [
    "# Looking at the average class travelled by gender\n",
    "print titanic_df.groupby('Who')['Pclass'].mean()"
   ]
  },
  {
   "cell_type": "code",
   "execution_count": 50,
   "metadata": {
    "collapsed": false
   },
   "outputs": [
    {
     "name": "stdout",
     "output_type": "stream",
     "text": [
      "   Women  Children\n",
      "1     86        12\n",
      "2     64        23\n",
      "3    109        78\n",
      "(27.232044246662113, 1.2207780906029707e-06, 2L, array([[  68.2311828 ,   29.7688172 ],\n",
      "       [  60.57258065,   26.42741935],\n",
      "       [ 130.19623656,   56.80376344]]))\n"
     ]
    }
   ],
   "source": [
    "# Checking if who you are and class of travel are independent using a chi square test\n",
    "\n",
    "#Contingency table for chi square test\n",
    "women2_table = titanic_df[titanic_df['Who'] == 'female']['Pclass'].value_counts()\n",
    "child2_table = titanic_df[titanic_df['Who'] == 'child']['Pclass'].value_counts()\n",
    "con_table_d = pd.concat([women2_table, child2_table], axis = 1, keys = ['Women','Children'])\n",
    "\n",
    "print con_table_d\n",
    "\n",
    "#Chi Square test for independence\n",
    "print scistat.chi2_contingency(con_table_d)"
   ]
  },
  {
   "cell_type": "code",
   "execution_count": 46,
   "metadata": {
    "collapsed": false
   },
   "outputs": [
    {
     "name": "stdout",
     "output_type": "stream",
     "text": [
      "Pclass\n",
      "1    0.629630\n",
      "2    0.472826\n",
      "3    0.242363\n",
      "Name: Survived, dtype: float64\n"
     ]
    }
   ],
   "source": [
    "# Looking at the probability of survival by class\n",
    "print titanic_df.groupby('Pclass')['Survived'].mean()"
   ]
  },
  {
   "cell_type": "code",
   "execution_count": 49,
   "metadata": {
    "collapsed": false
   },
   "outputs": [
    {
     "name": "stdout",
     "output_type": "stream",
     "text": [
      "   First Class  Second Class  Third Class\n",
      "0           80            97          372\n",
      "1          136            87          119\n",
      "(102.88898875696056, 4.5492517112987927e-23, 2L, array([[ 133.09090909,  113.37373737,  302.53535354],\n",
      "       [  82.90909091,   70.62626263,  188.46464646]]))\n"
     ]
    }
   ],
   "source": [
    "# Checking if class of travel and survival are independent using a chi square test\n",
    "\n",
    "#Contingency table for chi square test\n",
    "class1_table = titanic_df[titanic_df['Pclass'] == 1]['Survived'].value_counts()\n",
    "class2_table = titanic_df[titanic_df['Pclass'] == 2]['Survived'].value_counts()\n",
    "class3_table = titanic_df[titanic_df['Pclass'] == 3]['Survived'].value_counts()\n",
    "con_table_c = pd.concat([class1_table, class2_table, class3_table], axis = 1, keys = ['First Class','Second Class','Third Class'])\n",
    "\n",
    "print con_table_c\n",
    "\n",
    "#Chi Square test for independence\n",
    "print scistat.chi2_contingency(con_table_c)"
   ]
  },
  {
   "cell_type": "markdown",
   "metadata": {},
   "source": [
    "Both tests suggest upon testing at a 0.05 alpha level that the variables being tested are not independent:\n",
    "\n",
    "a) Adult females on average travelled in different classes as compared to children\n",
    "\n",
    "b) Survival depended on which class you were in.\n",
    "\n",
    "Comparing the value differences in the mean analysis and the observed and expected contingency tables in both cases however leads us to suspect that:\n",
    "\n",
    "a) Adult females on average travelled in higher classes than children\n",
    "\n",
    "b) The higher classes were more likely to survive.\n",
    "\n",
    "# In Conclusion\n",
    "\n",
    "In response to my original questions, I found that \n",
    "\n",
    "1) Women and children were more likely to survive than men and also \n",
    "\n",
    "2) That women were more likely to survive than children.\n",
    "\n",
    "However the second conclusion has a possible confounding variable in the Class of Travel because it was found that class of travel affected likelihood of survival and it also seemed like significantly more children travelled by lower classes as compared to adult females. \n"
   ]
  },
  {
   "cell_type": "markdown",
   "metadata": {},
   "source": [
    "# Limitations of analysis\n",
    "\n",
    "During the course of my analysis, I dropped the Parch and SibSp features quite early on when they could have had impacts on the questions that I was asking (maybe only women and children with family onboard had a high chance of surviving?). The effects of these features are defintely worth exploring.\n",
    "\n",
    "I also used Chi Square tests frequently when categorical variables were involved. These tests tell us whether two variables are independent/dependent but do not necessarily tell us the direction of the dependence. I have only inferred the direction of the relationship from means.  \n",
    "\n",
    "In filling the ages of passengers with no age in the dataset, I largely filled the missing ages with median values that were likely to cause under representation of groups like children. It might have been more prudent to look for information in the name of the passenger as well (master/mr etc.) in order to determine an age.\n",
    "\n",
    "Further to the points above, there are several variables not present in the dataset that may have affected the results of my analysis. Perhaps passengers who knew how to swim or were in better physical shape were more likely to get to the lifeboats? Maybe where on the ship (port or starboard) passengers had their cabin made affected their survival chances? Maybe the area near the play area (where children are more likely to be) sank first?"
   ]
  }
 ],
 "metadata": {
  "kernelspec": {
   "display_name": "Python 2",
   "language": "python",
   "name": "python2"
  },
  "language_info": {
   "codemirror_mode": {
    "name": "ipython",
    "version": 2
   },
   "file_extension": ".py",
   "mimetype": "text/x-python",
   "name": "python",
   "nbconvert_exporter": "python",
   "pygments_lexer": "ipython2",
   "version": "2.7.11"
  }
 },
 "nbformat": 4,
 "nbformat_minor": 0
}
