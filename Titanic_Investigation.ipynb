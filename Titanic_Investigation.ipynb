{
 "cells": [
  {
   "cell_type": "markdown",
   "metadata": {},
   "source": [
    "# Titanic Investigation\n",
    "\n",
    "### \"Women and Children first!\" became a popular code of conduct after the Titanic sank in 1912. \n",
    "\n",
    "### It also inspired the first questions I thought of when I first saw this dataset: \n",
    "1) Did both women and children indeed survive more than men? <br>\n",
    "2) And between women and children, was one group more likely to survive than the other? \n",
    "\n",
    "I'll be exploring these questions in the following analysis\n",
    "\n",
    "\n",
    "# Importing the data\n",
    "\n",
    "<p>The first step in my analysis of the titanic data set was to import the data into a dataframe using the passenger id as the index and just explore the structure of the dataset using the head method.</p>"
   ]
  },
  {
   "cell_type": "code",
   "execution_count": 1,
   "metadata": {
    "collapsed": false
   },
   "outputs": [
    {
     "name": "stdout",
     "output_type": "stream",
     "text": [
      "             Survived  Pclass  \\\n",
      "PassengerId                     \n",
      "1                   0       3   \n",
      "2                   1       1   \n",
      "3                   1       3   \n",
      "4                   1       1   \n",
      "5                   0       3   \n",
      "\n",
      "                                                          Name     Sex  Age  \\\n",
      "PassengerId                                                                   \n",
      "1                                      Braund, Mr. Owen Harris    male   22   \n",
      "2            Cumings, Mrs. John Bradley (Florence Briggs Th...  female   38   \n",
      "3                                       Heikkinen, Miss. Laina  female   26   \n",
      "4                 Futrelle, Mrs. Jacques Heath (Lily May Peel)  female   35   \n",
      "5                                     Allen, Mr. William Henry    male   35   \n",
      "\n",
      "             SibSp  Parch            Ticket     Fare Cabin Embarked  \n",
      "PassengerId                                                          \n",
      "1                1      0         A/5 21171   7.2500   NaN        S  \n",
      "2                1      0          PC 17599  71.2833   C85        C  \n",
      "3                0      0  STON/O2. 3101282   7.9250   NaN        S  \n",
      "4                1      0            113803  53.1000  C123        S  \n",
      "5                0      0            373450   8.0500   NaN        S  \n"
     ]
    },
    {
     "name": "stderr",
     "output_type": "stream",
     "text": [
      "C:\\Users\\Abhi\\Anaconda2\\lib\\site-packages\\matplotlib\\__init__.py:872: UserWarning: axes.color_cycle is deprecated and replaced with axes.prop_cycle; please use the latter.\n",
      "  warnings.warn(self.msg_depr % (key, alt_key))\n"
     ]
    }
   ],
   "source": [
    "##import necessary modules\n",
    "import numpy as np\n",
    "import pandas as pd\n",
    "import matplotlib.pyplot as plt\n",
    "import matplotlib.figure as fgr\n",
    "from matplotlib.axes import Subplot\n",
    "import seaborn as sns\n",
    "import scipy.stats as scistat\n",
    "\n",
    "## read in the datasets\n",
    "\n",
    "titanic_df_init = pd.read_csv('C:/Users/Abhi/Downloads/Datasets/titanic_data.csv')\n",
    "\n",
    "## setting the passenger id as the index for the dataframe\n",
    "titanic_df = titanic_df_init.set_index('PassengerId')\n",
    "\n",
    "print titanic_df.head()"
   ]
  },
  {
   "cell_type": "markdown",
   "metadata": {},
   "source": [
    "# Data Wrangling\n",
    "\n",
    "<p>Looking at the dataset, I decided that it was first critical to wrangle the data into the structures that would make analysis easier later on. In doing so I set out to perform a few wrangling tasks:</p>\n",
    "\n",
    "a. To make some computation and analysis work with the gender of passengers easier, I decided to add a **\"Gender\"** column to illustrate **male/female** with the numberical keys **0/1** instead.\n",
    "\n",
    "b. I was finding it problematic that the Age column had several Nan values and I thought this would make analysis work where Age was involved a bit difficult to generalize to the dataset. So I took some inspiration from <a>https://www.kaggle.com/c/titanic/details/getting-started-with-python-ii</a> to fill the age value for a passenger without an age value based on the median age of people of their gender and class of travel. \n",
    "\n",
    "c. Finally, keeping in mind that my orignal question enquires about children, I thought it might be useful to create a **\"Who\"** column to seperate between **men, women and children** (below 18 years old) in the passenger dataset. This enabled me to look at the children data in greater detail later.\n",
    "\n",
    "d. In the end, I dropped columns that I was quite sure I wouldn't be interested in looking at in this analysis"
   ]
  },
  {
   "cell_type": "code",
   "execution_count": 2,
   "metadata": {
    "collapsed": false
   },
   "outputs": [
    {
     "name": "stdout",
     "output_type": "stream",
     "text": [
      "New working data structure for Titanic Dataset\n",
      "             Survived  Pclass  SibSp  Parch     Fare  Gender  AgeFill     Who\n",
      "PassengerId                                                                  \n",
      "880                 1       1      0      1  83.1583       1     56.0  female\n",
      "881                 1       2      0      1  26.0000       1     25.0  female\n",
      "882                 0       3      0      0   7.8958       0     33.0    male\n",
      "883                 0       3      0      0  10.5167       1     22.0  female\n",
      "884                 0       2      0      0  10.5000       0     28.0    male\n",
      "885                 0       3      0      0   7.0500       0     25.0    male\n",
      "886                 0       3      0      5  29.1250       1     39.0  female\n",
      "887                 0       2      0      0  13.0000       0     27.0    male\n",
      "888                 1       1      0      0  30.0000       1     19.0  female\n",
      "889                 0       3      1      2  23.4500       1     21.5  female\n",
      "890                 1       1      0      0  30.0000       0     26.0    male\n",
      "891                 0       3      0      0   7.7500       0     32.0    male\n"
     ]
    }
   ],
   "source": [
    "## Replacing male/female with binary values 0/1\n",
    "titanic_df['Gender'] = titanic_df['Sex']\n",
    "titanic_df['Gender'] = titanic_df['Gender'].dropna().replace(to_replace = ['male','female'],value = [0,1])\n",
    "\n",
    "## Calculating the median age values for each gender by class\n",
    "median_age_class = np.ones((2,3))\n",
    "\n",
    "for i in range(0,2):\n",
    "    for j in range(0,3):\n",
    "        median_age_class[i,j] = \\\n",
    "        titanic_df[(titanic_df['Gender'] == i) & (titanic_df['Pclass'] == j + 1)]['Age'].dropna().median()\n",
    "\n",
    "## Creating a complete age column by replacing Nan values with appropriate median age as per gender and class\n",
    "titanic_df['AgeFill'] = titanic_df['Age']\n",
    "\n",
    "## Filling in the AgeFill column with the median ages estimated as per class and gender of passenger (Kaggle)\n",
    "for i in range(0, 2):\n",
    "    for j in range(0, 3):\n",
    "        titanic_df.loc[ (titanic_df.Age.isnull()) & (titanic_df.Gender == i) & (titanic_df.Pclass == j+1),\\\n",
    "                'AgeFill'] = median_age_class[i,j]\n",
    "\n",
    "## Creating a who column to classify by (man, woman, child)\n",
    "titanic_df['Who'] = titanic_df['Sex']\n",
    "titanic_df.loc[(titanic_df['AgeFill'] < 18),'Who'] = 'child'\n",
    "\n",
    "##Dropping the columns that I was sure weren't going to be used in my analysis\n",
    "titanic_df = titanic_df.drop(['Age','Name','Sex','Ticket','Cabin','Embarked'], axis = 1)\n",
    "\n",
    "##Printing out the new data structure\n",
    "print 'New working data structure for Titanic Dataset'\n",
    "print titanic_df.tail(12)\n"
   ]
  },
  {
   "cell_type": "markdown",
   "metadata": {},
   "source": [
    "# Exploring the data\n",
    "\n",
    "To get to know the distribution of the dataset a little better, I decided to explore the dataset for  relationships and visual trends using 3 tools:\n",
    "\n",
    "1) I used to boxplot to give me a quick indication of how the different columns were distributed, how \"normal\" they were and whether any of them were significantly influenced by outliers\n",
    "\n",
    "2) Then I used histograms to better understand the distribution of individual columns. I especially looked at the barcharts for features like AgeFill, Gender and Survived.\n",
    "\n",
    "3) Finally I wanted to see if there were any strong correlations between the features and also have a look at the basic descriptive statistics for the features. I used the corr() and describe() functions to do this \n"
   ]
  },
  {
   "cell_type": "code",
   "execution_count": 3,
   "metadata": {
    "collapsed": false
   },
   "outputs": [
    {
     "name": "stdout",
     "output_type": "stream",
     "text": [
      "         Survived      Pclass       SibSp       Parch        Fare      Gender  \\\n",
      "count  891.000000  891.000000  891.000000  891.000000  891.000000  891.000000   \n",
      "mean     0.383838    2.308642    0.523008    0.381594   32.204208    0.352413   \n",
      "std      0.486592    0.836071    1.102743    0.806057   49.693429    0.477990   \n",
      "min      0.000000    1.000000    0.000000    0.000000    0.000000    0.000000   \n",
      "25%      0.000000    2.000000    0.000000    0.000000    7.910400    0.000000   \n",
      "50%      0.000000    3.000000    0.000000    0.000000   14.454200    0.000000   \n",
      "75%      1.000000    3.000000    1.000000    0.000000   31.000000    1.000000   \n",
      "max      1.000000    3.000000    8.000000    6.000000  512.329200    1.000000   \n",
      "\n",
      "          AgeFill  \n",
      "count  891.000000  \n",
      "mean    29.112424  \n",
      "std     13.304424  \n",
      "min      0.420000  \n",
      "25%     21.500000  \n",
      "50%     26.000000  \n",
      "75%     36.000000  \n",
      "max     80.000000  \n",
      "          Survived    Pclass     SibSp     Parch      Fare    Gender   AgeFill\n",
      "Survived  1.000000 -0.338481 -0.035322  0.081629  0.257307  0.543351 -0.059579\n",
      "Pclass   -0.338481  1.000000  0.083081  0.018443 -0.549500 -0.131900 -0.413583\n",
      "SibSp    -0.035322  0.083081  1.000000  0.414838  0.159651  0.114631 -0.249854\n",
      "Parch     0.081629  0.018443  0.414838  1.000000  0.216225  0.245489 -0.175526\n",
      "Fare      0.257307 -0.549500  0.159651  0.216225  1.000000  0.182333  0.122692\n",
      "Gender    0.543351 -0.131900  0.114631  0.245489  0.182333  1.000000 -0.102706\n",
      "AgeFill  -0.059579 -0.413583 -0.249854 -0.175526  0.122692 -0.102706  1.000000\n"
     ]
    },
    {
     "name": "stderr",
     "output_type": "stream",
     "text": [
      "C:\\Users\\Abhi\\Anaconda2\\lib\\site-packages\\ipykernel\\__main__.py:4: FutureWarning: \n",
      "The default value for 'return_type' will change to 'axes' in a future release.\n",
      " To use the future behavior now, set return_type='axes'.\n",
      " To keep the previous behavior and silence this warning, set return_type='dict'.\n"
     ]
    },
    {
     "data": {
      "image/png": "[encoded data removed]",
      "text/plain": [
       "<matplotlib.figure.Figure at 0x3dd47f0>"
      ]
     },
     "metadata": {},
     "output_type": "display_data"
    },
    {
     "data": {
      "image/png": "[encoded data removed]",
      "text/plain": [
       "<matplotlib.figure.Figure at 0x3dd4358>"
      ]
     },
     "metadata": {},
     "output_type": "display_data"
    }
   ],
   "source": [
    "%matplotlib inline\n",
    "\n",
    "##Exploring the data with a boxplot and histograms for each column\n",
    "titanic_df.boxplot()\n",
    "plt.ylim(ymax = 100)\n",
    "titanic_df.hist(figsize = (10,12))\n",
    "\n",
    "## Basic descriptive statistics of the dataset\n",
    "print titanic_df.describe()\n",
    "\n",
    "## Getting the Correlations between all the columns\n",
    "print titanic_df.corr()\n"
   ]
  },
  {
   "cell_type": "markdown",
   "metadata": {},
   "source": [
    "Next I wanted to start directly exploring my original question of whether women and children were more likely to survive than men and whether there was a difference in the likelihood of women surviving vs children.\n",
    "\n",
    "The hypotheses that my questions are represented by are as follows:\n",
    "\n",
    "a) H0a: There is no significant difference between the likelihood(here defined as the average survival value where death is 0 and survival is 1) of a man surviving as compared to the likelihood of a women and child surviving:\n",
    "\n",
    "                                            μm = μfc\n",
    "                                            \n",
    "   H1a: The likelihood of a women or child surviving the titanic is greater than that of a man\n",
    "   \n",
    "                                            μm < μfc\n",
    "                                            \n",
    "b) H0b: There is no significant difference between the likelihood of a woman surviving and that of child surviving\n",
    "\n",
    "                                            μf = μc\n",
    "   \n",
    "   H1b: There is a significant difference between the likelihood of a woman surviving and that of a child surviving.\n",
    "   \n",
    "                                            μf ≠ μc\n",
    "\n",
    "Before performing the t test, I thought it would be useful to see the distribution of survival and non survival among men,women and children(ie. the 'Who' feature).\n",
    "\n",
    "I used a countplot from seaborn to represent this by using the hues as the 'Who' columns values. "
   ]
  },
  {
   "cell_type": "code",
   "execution_count": 4,
   "metadata": {
    "collapsed": false
   },
   "outputs": [
    {
     "data": {
      "text/plain": [
       "[<matplotlib.text.Text at 0x1fb41e80>, <matplotlib.text.Text at 0x1a0929e8>]"
      ]
     },
     "execution_count": 4,
     "metadata": {},
     "output_type": "execute_result"
    },
    {
     "data": {
      "image/png": "[encoded data removed]",
      "text/plain": [
       "<matplotlib.figure.Figure at 0x1f7a4b38>"
      ]
     },
     "metadata": {},
     "output_type": "display_data"
    }
   ],
   "source": [
    "## Creating a plot of Survival vs non survival By (Men,Women and Children)\n",
    "\n",
    "p1 = sns.countplot(x = 'Survived', hue = 'Who', data = titanic_df, palette = 'Set2')\n",
    "plt.ylabel('Number of Passengers', fontsize = 15)\n",
    "plt.xlabel('Survival Status', fontsize = 15)\n",
    "sns.despine()\n",
    "p1.set_xticklabels(['Did Not Survive', 'Survived']) #Adding tick labels that are more intuitive for the reader\n",
    "\n"
   ]
  },
  {
   "cell_type": "markdown",
   "metadata": {
    "collapsed": true
   },
   "source": [
    "The chart above seemed to suggest that a much greater proportion of women and children survived as compared to men. \n",
    "\n",
    "So I decided to proceed to use a one tailed independednt sample t test to test my hypothesis statistically for a)\n",
    "\n",
    "And a two tailed independent sample t test to test my hypothesis for b)\n",
    "\n",
    "\n",
    "### Hypothesis a"
   ]
  },
  {
   "cell_type": "code",
   "execution_count": 6,
   "metadata": {
    "collapsed": false,
    "scrolled": true
   },
   "outputs": [
    {
     "data": {
      "text/plain": [
       "Ttest_indResult(statistic=17.970316837187614, pvalue=1.74751653713372e-59)"
      ]
     },
     "execution_count": 6,
     "metadata": {},
     "output_type": "execute_result"
    }
   ],
   "source": [
    "\n",
    "##Creating dataframes of the appropriate views in preparation for statistical tests\n",
    "female_df = titanic_df[titanic_df['Who'] == 'female']\n",
    "child_df = titanic_df[titanic_df['Who'] == 'child']\n",
    "men_df = titanic_df[titanic_df['Who'] == 'male']\n",
    "wom_and_chi_df = pd.concat([female_df,child_df])\n",
    "\n",
    "## T Test to check hypothesis a (ie. if women and children were more likely to survive than men)\n",
    "\n",
    "scistat.ttest_ind(wom_and_chi_df['Survived'], men_df['Survived'], equal_var = False)\n"
   ]
  },
  {
   "cell_type": "markdown",
   "metadata": {},
   "source": [
    "Based on the above t test, the p value is below 0.05 (alpha level for this one tailed test) and therefore we **reject the null hypothesis**"
   ]
  },
  {
   "cell_type": "markdown",
   "metadata": {},
   "source": [
    "### Hypothesis b\n",
    "\n",
    "For my second hypothesis that women and children do not have the same likelihood of survival, I used a two talied test independent sample t test."
   ]
  },
  {
   "cell_type": "code",
   "execution_count": 7,
   "metadata": {
    "collapsed": false
   },
   "outputs": [
    {
     "data": {
      "text/plain": [
       "Ttest_indResult(statistic=3.9302662336014, pvalue=0.00011915003921288802)"
      ]
     },
     "execution_count": 7,
     "metadata": {},
     "output_type": "execute_result"
    }
   ],
   "source": [
    "## T Test to check hypothesis b (ie. that women and children did not have the same likelihood of suvival)\n",
    "\n",
    "scistat.ttest_ind(female_df['Survived'], child_df['Survived'], equal_var = False)\n"
   ]
  },
  {
   "cell_type": "markdown",
   "metadata": {},
   "source": [
    "Based on the above t test, the p value is below 0.025 (this is a two tailed test so we compare to 0.025 instead of alpha of 0.05) and therefore **we reject the null hypothesis**\n",
    "\n",
    "The result of the test seems to suggest that women were more likely to survive than children on the Titanic. This came across as an unexpected result to me (infact I expected it to be the other way around!). \n",
    "\n",
    "I decided to go back to the dataset and check if there are other variables that could be spuriously affecting the 'Who' --> 'Surivived' relationship (especially in the case of women and children)\n",
    "\n",
    "To do this I wanted to look at the descriptive statistics for the women and children group separately using the describe funciton"
   ]
  },
  {
   "cell_type": "code",
   "execution_count": 8,
   "metadata": {
    "collapsed": false
   },
   "outputs": [
    {
     "data": {
      "text/html": [
       "<div>\n",
       "<table border=\"1\" class=\"dataframe\">\n",
       "  <thead>\n",
       "    <tr style=\"text-align: right;\">\n",
       "      <th></th>\n",
       "      <th>Survived</th>\n",
       "      <th>Pclass</th>\n",
       "      <th>SibSp</th>\n",
       "      <th>Parch</th>\n",
       "      <th>Fare</th>\n",
       "      <th>Gender</th>\n",
       "      <th>AgeFill</th>\n",
       "    </tr>\n",
       "  </thead>\n",
       "  <tbody>\n",
       "    <tr>\n",
       "      <th>count</th>\n",
       "      <td>113.000000</td>\n",
       "      <td>113.000000</td>\n",
       "      <td>113.000000</td>\n",
       "      <td>113.000000</td>\n",
       "      <td>113.000000</td>\n",
       "      <td>113.000000</td>\n",
       "      <td>113.000000</td>\n",
       "    </tr>\n",
       "    <tr>\n",
       "      <th>mean</th>\n",
       "      <td>0.539823</td>\n",
       "      <td>2.584071</td>\n",
       "      <td>1.460177</td>\n",
       "      <td>1.053097</td>\n",
       "      <td>31.220798</td>\n",
       "      <td>0.486726</td>\n",
       "      <td>9.041327</td>\n",
       "    </tr>\n",
       "    <tr>\n",
       "      <th>std</th>\n",
       "      <td>0.500632</td>\n",
       "      <td>0.677781</td>\n",
       "      <td>1.625881</td>\n",
       "      <td>0.800008</td>\n",
       "      <td>32.538092</td>\n",
       "      <td>0.502050</td>\n",
       "      <td>6.030408</td>\n",
       "    </tr>\n",
       "    <tr>\n",
       "      <th>min</th>\n",
       "      <td>0.000000</td>\n",
       "      <td>1.000000</td>\n",
       "      <td>0.000000</td>\n",
       "      <td>0.000000</td>\n",
       "      <td>7.054200</td>\n",
       "      <td>0.000000</td>\n",
       "      <td>0.420000</td>\n",
       "    </tr>\n",
       "    <tr>\n",
       "      <th>25%</th>\n",
       "      <td>0.000000</td>\n",
       "      <td>2.000000</td>\n",
       "      <td>0.000000</td>\n",
       "      <td>0.000000</td>\n",
       "      <td>12.287500</td>\n",
       "      <td>0.000000</td>\n",
       "      <td>3.000000</td>\n",
       "    </tr>\n",
       "    <tr>\n",
       "      <th>50%</th>\n",
       "      <td>1.000000</td>\n",
       "      <td>3.000000</td>\n",
       "      <td>1.000000</td>\n",
       "      <td>1.000000</td>\n",
       "      <td>23.000000</td>\n",
       "      <td>0.000000</td>\n",
       "      <td>9.000000</td>\n",
       "    </tr>\n",
       "    <tr>\n",
       "      <th>75%</th>\n",
       "      <td>1.000000</td>\n",
       "      <td>3.000000</td>\n",
       "      <td>3.000000</td>\n",
       "      <td>2.000000</td>\n",
       "      <td>34.375000</td>\n",
       "      <td>1.000000</td>\n",
       "      <td>16.000000</td>\n",
       "    </tr>\n",
       "    <tr>\n",
       "      <th>max</th>\n",
       "      <td>1.000000</td>\n",
       "      <td>3.000000</td>\n",
       "      <td>5.000000</td>\n",
       "      <td>3.000000</td>\n",
       "      <td>211.337500</td>\n",
       "      <td>1.000000</td>\n",
       "      <td>17.000000</td>\n",
       "    </tr>\n",
       "  </tbody>\n",
       "</table>\n",
       "</div>"
      ],
      "text/plain": [
       "         Survived      Pclass       SibSp       Parch        Fare      Gender  \\\n",
       "count  113.000000  113.000000  113.000000  113.000000  113.000000  113.000000   \n",
       "mean     0.539823    2.584071    1.460177    1.053097   31.220798    0.486726   \n",
       "std      0.500632    0.677781    1.625881    0.800008   32.538092    0.502050   \n",
       "min      0.000000    1.000000    0.000000    0.000000    7.054200    0.000000   \n",
       "25%      0.000000    2.000000    0.000000    0.000000   12.287500    0.000000   \n",
       "50%      1.000000    3.000000    1.000000    1.000000   23.000000    0.000000   \n",
       "75%      1.000000    3.000000    3.000000    2.000000   34.375000    1.000000   \n",
       "max      1.000000    3.000000    5.000000    3.000000  211.337500    1.000000   \n",
       "\n",
       "          AgeFill  \n",
       "count  113.000000  \n",
       "mean     9.041327  \n",
       "std      6.030408  \n",
       "min      0.420000  \n",
       "25%      3.000000  \n",
       "50%      9.000000  \n",
       "75%     16.000000  \n",
       "max     17.000000  "
      ]
     },
     "execution_count": 8,
     "metadata": {},
     "output_type": "execute_result"
    }
   ],
   "source": [
    "## Descriptive statistics for the passengers who were children\n",
    "child_df.describe()\n"
   ]
  },
  {
   "cell_type": "code",
   "execution_count": 9,
   "metadata": {
    "collapsed": false
   },
   "outputs": [
    {
     "data": {
      "text/html": [
       "<div>\n",
       "<table border=\"1\" class=\"dataframe\">\n",
       "  <thead>\n",
       "    <tr style=\"text-align: right;\">\n",
       "      <th></th>\n",
       "      <th>Survived</th>\n",
       "      <th>Pclass</th>\n",
       "      <th>SibSp</th>\n",
       "      <th>Parch</th>\n",
       "      <th>Fare</th>\n",
       "      <th>Gender</th>\n",
       "      <th>AgeFill</th>\n",
       "    </tr>\n",
       "  </thead>\n",
       "  <tbody>\n",
       "    <tr>\n",
       "      <th>count</th>\n",
       "      <td>259.000000</td>\n",
       "      <td>259.000000</td>\n",
       "      <td>259.000000</td>\n",
       "      <td>259.000000</td>\n",
       "      <td>259.000000</td>\n",
       "      <td>259</td>\n",
       "      <td>259.000000</td>\n",
       "    </tr>\n",
       "    <tr>\n",
       "      <th>mean</th>\n",
       "      <td>0.752896</td>\n",
       "      <td>2.088803</td>\n",
       "      <td>0.586873</td>\n",
       "      <td>0.567568</td>\n",
       "      <td>46.963772</td>\n",
       "      <td>1</td>\n",
       "      <td>31.088803</td>\n",
       "    </tr>\n",
       "    <tr>\n",
       "      <th>std</th>\n",
       "      <td>0.432163</td>\n",
       "      <td>0.864811</td>\n",
       "      <td>1.057999</td>\n",
       "      <td>1.044676</td>\n",
       "      <td>61.269415</td>\n",
       "      <td>0</td>\n",
       "      <td>10.840270</td>\n",
       "    </tr>\n",
       "    <tr>\n",
       "      <th>min</th>\n",
       "      <td>0.000000</td>\n",
       "      <td>1.000000</td>\n",
       "      <td>0.000000</td>\n",
       "      <td>0.000000</td>\n",
       "      <td>6.750000</td>\n",
       "      <td>1</td>\n",
       "      <td>18.000000</td>\n",
       "    </tr>\n",
       "    <tr>\n",
       "      <th>25%</th>\n",
       "      <td>1.000000</td>\n",
       "      <td>1.000000</td>\n",
       "      <td>0.000000</td>\n",
       "      <td>0.000000</td>\n",
       "      <td>10.508350</td>\n",
       "      <td>1</td>\n",
       "      <td>21.500000</td>\n",
       "    </tr>\n",
       "    <tr>\n",
       "      <th>50%</th>\n",
       "      <td>1.000000</td>\n",
       "      <td>2.000000</td>\n",
       "      <td>0.000000</td>\n",
       "      <td>0.000000</td>\n",
       "      <td>23.250000</td>\n",
       "      <td>1</td>\n",
       "      <td>29.000000</td>\n",
       "    </tr>\n",
       "    <tr>\n",
       "      <th>75%</th>\n",
       "      <td>1.000000</td>\n",
       "      <td>3.000000</td>\n",
       "      <td>1.000000</td>\n",
       "      <td>1.000000</td>\n",
       "      <td>65.800000</td>\n",
       "      <td>1</td>\n",
       "      <td>37.500000</td>\n",
       "    </tr>\n",
       "    <tr>\n",
       "      <th>max</th>\n",
       "      <td>1.000000</td>\n",
       "      <td>3.000000</td>\n",
       "      <td>8.000000</td>\n",
       "      <td>6.000000</td>\n",
       "      <td>512.329200</td>\n",
       "      <td>1</td>\n",
       "      <td>63.000000</td>\n",
       "    </tr>\n",
       "  </tbody>\n",
       "</table>\n",
       "</div>"
      ],
      "text/plain": [
       "         Survived      Pclass       SibSp       Parch        Fare  Gender  \\\n",
       "count  259.000000  259.000000  259.000000  259.000000  259.000000     259   \n",
       "mean     0.752896    2.088803    0.586873    0.567568   46.963772       1   \n",
       "std      0.432163    0.864811    1.057999    1.044676   61.269415       0   \n",
       "min      0.000000    1.000000    0.000000    0.000000    6.750000       1   \n",
       "25%      1.000000    1.000000    0.000000    0.000000   10.508350       1   \n",
       "50%      1.000000    2.000000    0.000000    0.000000   23.250000       1   \n",
       "75%      1.000000    3.000000    1.000000    1.000000   65.800000       1   \n",
       "max      1.000000    3.000000    8.000000    6.000000  512.329200       1   \n",
       "\n",
       "          AgeFill  \n",
       "count  259.000000  \n",
       "mean    31.088803  \n",
       "std     10.840270  \n",
       "min     18.000000  \n",
       "25%     21.500000  \n",
       "50%     29.000000  \n",
       "75%     37.500000  \n",
       "max     63.000000  "
      ]
     },
     "execution_count": 9,
     "metadata": {},
     "output_type": "execute_result"
    }
   ],
   "source": [
    "#Descriptive statistics for the female passengers\n",
    "female_df.describe()"
   ]
  },
  {
   "cell_type": "markdown",
   "metadata": {},
   "source": [
    "Something that caught my eye when I looked at the descriptive statistics was the difference in the average class of travel between the two groups (female and child), so i decided to plot that using seaborn's countplot"
   ]
  },
  {
   "cell_type": "code",
   "execution_count": 10,
   "metadata": {
    "collapsed": false
   },
   "outputs": [
    {
     "data": {
      "image/png": "[encoded data removed]",
      "text/plain": [
       "<matplotlib.figure.Figure at 0x205f6e48>"
      ]
     },
     "metadata": {},
     "output_type": "display_data"
    }
   ],
   "source": [
    "p1 = sns.countplot(x = 'Pclass', hue = 'Who', data = wom_and_chi_df ,order = (1,2,3), palette = 'Set3')\n",
    "plt.ylabel('Number of Passengers', fontsize = 15)\n",
    "plt.xlabel('Class of Travel', fontsize = 15)\n",
    "sns.despine()"
   ]
  },
  {
   "cell_type": "markdown",
   "metadata": {},
   "source": [
    "The visualization above was interesting to me because it demonstrated that the number of children increased as we got into the lower classes (taking 3 as lowest class) while the number of adult female passengers was lowest in class 2 and higher in classes 1 and 3. \n",
    "\n",
    "This suggested two things to me:\n",
    "\n",
    "1) Maybe the average class of adult female passengers was higher than the average class of children\n",
    "\n",
    "2) That class of the passenger could be the confounding variable (that is causing the difference in survival rate between females and children) if class of travel significantly affected the likelihood of survival for the whole sample. (ie. higher class passengers had a better chance of survival)\n",
    "\n",
    "I set out to statistically test these two ideas"
   ]
  },
  {
   "cell_type": "code",
   "execution_count": 11,
   "metadata": {
    "collapsed": false
   },
   "outputs": [
    {
     "data": {
      "text/plain": [
       "Ttest_indResult(statistic=-5.9395526663592157, pvalue=8.8151380171812155e-09)"
      ]
     },
     "execution_count": 11,
     "metadata": {},
     "output_type": "execute_result"
    }
   ],
   "source": [
    "\n",
    "# T test for the hypothesis that the average class of an adult female passenger was higher than that of a child\n",
    "scistat.ttest_ind(female_df['Pclass'], child_df['Pclass'], equal_var = False)\n"
   ]
  },
  {
   "cell_type": "code",
   "execution_count": 12,
   "metadata": {
    "collapsed": false
   },
   "outputs": [
    {
     "name": "stdout",
     "output_type": "stream",
     "text": [
      "Ttest_indResult(statistic=3.1700336636550834, pvalue=0.0016466817069658033)\n",
      "Ttest_indResult(statistic=5.5299873454416524, pvalue=7.1612512729716009e-08)\n"
     ]
    }
   ],
   "source": [
    "# Creating dataframes for each of the independent sample groups\n",
    "pclass1_df = titanic_df[titanic_df['Pclass'] == 1]\n",
    "pclass2_df = titanic_df[titanic_df['Pclass'] == 2]\n",
    "pclass3_df = titanic_df[titanic_df['Pclass'] == 3]\n",
    "\n",
    "# T tests for the hypothesis that higher classes had a better chance of survival\n",
    "print scistat.ttest_ind(pclass1_df['Survived'], pclass2_df['Survived'], equal_var = False)\n",
    "print scistat.ttest_ind(pclass2_df['Survived'], pclass3_df['Survived'], equal_var = False)"
   ]
  },
  {
   "cell_type": "markdown",
   "metadata": {},
   "source": [
    "Both came out as statistically significant upon testing at a 0.05 alpha level and therefore we can conclude that:\n",
    "\n",
    "a) Adult females on average travelled in higher classes than children\n",
    "\n",
    "b) Higher classes were more likely to survive than lower classes\n",
    "\n",
    "# In Conclusion\n",
    "\n",
    "In response to my original questions, I found that \n",
    "\n",
    "1) Women and children were more likely to survive than men and also \n",
    "\n",
    "2) That women were more likely to survive than children.\n",
    "\n",
    "However the second conclusion has a confounding variable in Class of Travel because it was found that class of travel significantly affected likelihood of survival and significantly more children travelled by lower classes as compared to adult females. \n"
   ]
  }
 ],
 "metadata": {
  "kernelspec": {
   "display_name": "Python 2",
   "language": "python",
   "name": "python2"
  },
  "language_info": {
   "codemirror_mode": {
    "name": "ipython",
    "version": 2
   },
   "file_extension": ".py",
   "mimetype": "text/x-python",
   "name": "python",
   "nbconvert_exporter": "python",
   "pygments_lexer": "ipython2",
   "version": "2.7.11"
  }
 },
 "nbformat": 4,
 "nbformat_minor": 0
}
